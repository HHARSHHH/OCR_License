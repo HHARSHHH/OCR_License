{
  "nbformat": 4,
  "nbformat_minor": 0,
  "metadata": {
    "kernelspec": {
      "display_name": "Python 3",
      "language": "python",
      "name": "python3"
    },
    "language_info": {
      "codemirror_mode": {
        "name": "ipython",
        "version": 3
      },
      "file_extension": ".py",
      "mimetype": "text/x-python",
      "name": "python",
      "nbconvert_exporter": "python",
      "pygments_lexer": "ipython3",
      "version": "3.6.10"
    },
    "colab": {
      "name": "tr.ipynb",
      "provenance": []
    },
    "accelerator": "GPU"
  },
  "cells": [
    {
      "cell_type": "code",
      "metadata": {
        "id": "2dvekuLKLfqo",
        "colab": {
          "base_uri": "https://localhost:8080/",
          "height": 34
        },
        "outputId": "b0ef17e2-1362-4bd3-a953-7d85663125c6"
      },
      "source": [
        "from google.colab import drive\n",
        "drive.mount(\"/content/drive\",force_remount=True)"
      ],
      "execution_count": null,
      "outputs": [
        {
          "output_type": "stream",
          "text": [
            "Mounted at /content/drive\n"
          ],
          "name": "stdout"
        }
      ]
    },
    {
      "cell_type": "code",
      "metadata": {
        "id": "VErqhbQ5Lepl",
        "colab": {
          "base_uri": "https://localhost:8080/",
          "height": 34
        },
        "outputId": "2fa39365-262d-45f8-fda4-dd65facb3f11"
      },
      "source": [
        "%cd /content/drive/My\\ Drive"
      ],
      "execution_count": null,
      "outputs": [
        {
          "output_type": "stream",
          "text": [
            "/content/drive/My Drive\n"
          ],
          "name": "stdout"
        }
      ]
    },
    {
      "cell_type": "code",
      "metadata": {
        "id": "h8rAxIJiLepp"
      },
      "source": [
        "# ignore warning \n",
        "import os\n",
        "os.environ['TF_CPP_MIN_LOG_LEVEL'] = '3'\n",
        "\n",
        "from keras.preprocessing.image import ImageDataGenerator\n",
        "from keras.applications import MobileNetV2\n",
        "from keras.layers import AveragePooling2D\n",
        "from keras.layers import Dropout\n",
        "from keras.layers import Flatten\n",
        "from keras.layers import Dense\n",
        "from keras.layers import Input\n",
        "from keras.models import Model\n",
        "from keras.optimizers import Adam\n",
        "from keras.preprocessing.image import img_to_array\n",
        "from keras.preprocessing.image import load_img\n",
        "from keras.utils import to_categorical\n",
        "from keras.callbacks import ModelCheckpoint, EarlyStopping\n",
        "from keras.models import model_from_json\n",
        "from sklearn.preprocessing import LabelEncoder\n",
        "from sklearn.model_selection import train_test_split\n",
        "import matplotlib.pyplot as plt\n",
        "import matplotlib.gridspec as gridspec\n",
        "import glob\n",
        "import numpy as np"
      ],
      "execution_count": null,
      "outputs": []
    },
    {
      "cell_type": "code",
      "metadata": {
        "id": "3GogqV2ZLeps",
        "colab": {
          "base_uri": "https://localhost:8080/",
          "height": 479
        },
        "outputId": "17bc4bd4-0e8e-445a-880b-075709338bcc"
      },
      "source": [
        "dataset_paths = glob.glob(\"dataset_characters/**/*.jpg\")\n",
        "\n",
        "cols=4\n",
        "rows=3\n",
        "fig = plt.figure(figsize=(10,8))\n",
        "plt.rcParams.update({\"font.size\":14})\n",
        "grid = gridspec.GridSpec(ncols=cols,nrows=rows,figure=fig)\n",
        "\n",
        "# create a random list of images will be displayed\n",
        "np.random.seed(45)\n",
        "rand = np.random.randint(0,len(dataset_paths),size=(cols*rows))\n",
        "\n",
        "# Plot image\n",
        "for i in range(cols*rows):\n",
        "    fig.add_subplot(grid[i])\n",
        "    image = load_img(dataset_paths[rand[i]])\n",
        "    label = dataset_paths[rand[i]].split(os.path.sep)[-2]\n",
        "    plt.title('\"{:s}\"'.format(label))\n",
        "    plt.axis(False)\n",
        "    plt.imshow(image)\n",
        "\n",
        "plt.savefig(\"Visualize_dataset.jpg\",dpi=300)"
      ],
      "execution_count": null,
      "outputs": [
        {
          "output_type": "display_data",
          "data": {
            "image/png": "[encoded data removed]",
            "text/plain": [
              "<Figure size 720x576 with 12 Axes>"
            ]
          },
          "metadata": {
            "tags": [],
            "needs_background": "light"
          }
        }
      ]
    },
    {
      "cell_type": "code",
      "metadata": {
        "id": "wQ7p-aCrLepu",
        "colab": {
          "base_uri": "https://localhost:8080/"
        },
        "outputId": "4d3dc3af-cbd0-4d95-e546-24114070a83e"
      },
      "source": [
        "# Arange input data and corresponding labels\n",
        "X=[]\n",
        "labels=[]\n",
        "\n",
        "for image_path in dataset_paths:\n",
        "  label = image_path.split(os.path.sep)[-2]\n",
        "  image=load_img(image_path,target_size=(80,80))\n",
        "  image=img_to_array(image)\n",
        "\n",
        "  X.append(image)\n",
        "  labels.append(label)\n",
        "\n",
        "X = np.array(X,dtype=\"float16\")\n",
        "labels = np.array(labels)\n",
        "\n",
        "print(\"[INFO] Find {:d} images with {:d} classes\".format(len(X),len(set(labels))))\n",
        "\n",
        "\n",
        "# perform one-hot encoding on the labels\n",
        "lb = LabelEncoder()\n",
        "lb.fit(labels)\n",
        "labels = lb.transform(labels)\n",
        "y = to_categorical(labels)\n",
        "\n",
        "# save label file so we can use in another script\n",
        "np.save('license_character_classes.npy', lb.classes_)"
      ],
      "execution_count": null,
      "outputs": [
        {
          "output_type": "stream",
          "text": [
            "[INFO] Find 37623 images with 36 classes\n"
          ],
          "name": "stdout"
        }
      ]
    },
    {
      "cell_type": "code",
      "metadata": {
        "id": "PytD8N5xLepw"
      },
      "source": [
        "(trainX, testX, trainY, testY) = train_test_split(X, y, test_size=0.10, stratify=y, random_state=42)"
      ],
      "execution_count": null,
      "outputs": []
    },
    {
      "cell_type": "code",
      "metadata": {
        "id": "5N4gunVGLepy"
      },
      "source": [
        "image_gen = ImageDataGenerator(rotation_range=10,\n",
        "                              width_shift_range=0.1,\n",
        "                              height_shift_range=0.1,\n",
        "                              shear_range=0.1,\n",
        "                              zoom_range=0.1,\n",
        "                              fill_mode=\"nearest\"\n",
        "                              )"
      ],
      "execution_count": null,
      "outputs": []
    },
    {
      "cell_type": "code",
      "metadata": {
        "id": "Iqt_RqP0Lep0"
      },
      "source": [
        "def create_model(lr=1e-4,decay=1e-4/25, training=False,output_shape=y.shape[1]):\n",
        "    baseModel = MobileNetV2(weights=\"imagenet\", \n",
        "                            include_top=False,\n",
        "                            input_tensor=Input(shape=(80, 80, 3)))\n",
        "\n",
        "    headModel = baseModel.output\n",
        "    headModel = AveragePooling2D(pool_size=(3, 3))(headModel)\n",
        "    headModel = Flatten(name=\"flatten\")(headModel)\n",
        "    headModel = Dense(128, activation=\"relu\")(headModel)\n",
        "    headModel = Dropout(0.5)(headModel)\n",
        "    headModel = Dense(output_shape, activation=\"softmax\")(headModel)\n",
        "    \n",
        "    model = Model(inputs=baseModel.input, outputs=headModel)\n",
        "    \n",
        "    if training:\n",
        "        # define trainable lalyer\n",
        "        for layer in baseModel.layers:\n",
        "            layer.trainable = True\n",
        "        # compile model\n",
        "        optimizer = Adam(lr=lr, decay = decay)\n",
        "        model.compile(loss=\"categorical_crossentropy\", optimizer=optimizer,metrics=[\"accuracy\"])    \n",
        "        \n",
        "    return model"
      ],
      "execution_count": null,
      "outputs": []
    },
    {
      "cell_type": "code",
      "metadata": {
        "id": "re5ESp6eLep2",
        "colab": {
          "base_uri": "https://localhost:8080/",
          "height": 87
        },
        "outputId": "1ee65f8d-d422-4c46-a3b0-d32f1d5b94fb"
      },
      "source": [
        "\n",
        "# initilaize initial hyperparameter\n",
        "INIT_LR = 1e-4\n",
        "EPOCHS = 30\n",
        "\n",
        "model = create_model(lr=INIT_LR, decay=INIT_LR/EPOCHS,training=True)"
      ],
      "execution_count": null,
      "outputs": [
        {
          "output_type": "stream",
          "text": [
            "WARNING:tensorflow:`input_shape` is undefined or non-square, or `rows` is not in [96, 128, 160, 192, 224]. Weights for input shape (224, 224) will be loaded as the default.\n",
            "Downloading data from https://storage.googleapis.com/tensorflow/keras-applications/mobilenet_v2/mobilenet_v2_weights_tf_dim_ordering_tf_kernels_1.0_224_no_top.h5\n",
            "9412608/9406464 [==============================] - 0s 0us/step\n"
          ],
          "name": "stdout"
        }
      ]
    },
    {
      "cell_type": "code",
      "metadata": {
        "id": "vhhqQuQCLep5",
        "colab": {
          "base_uri": "https://localhost:8080/",
          "height": 1000
        },
        "outputId": "6abb9a46-43b4-4f6d-ac34-3b073c4c9cde"
      },
      "source": [
        "BATCH_SIZE = 64\n",
        "\n",
        "my_checkpointer = [\n",
        "                EarlyStopping(monitor='val_loss', patience=5, verbose=1),\n",
        "                ModelCheckpoint(filepath=\"License_character_recognition.h5\", verbose=1, save_weights_only=True)\n",
        "                ]\n",
        "\n",
        "result = model.fit_generator(image_gen.flow(trainX, trainY, batch_size=64), \n",
        "                   steps_per_epoch=len(trainX) // BATCH_SIZE, \n",
        "                   validation_data=(testX, testY), \n",
        "                   validation_steps=len(testX) // BATCH_SIZE, \n",
        "                   epochs=EPOCHS, callbacks=my_checkpointer)"
      ],
      "execution_count": null,
      "outputs": [
        {
          "output_type": "stream",
          "text": [
            "Epoch 1/30\n",
            "12/12 [==============================] - ETA: 0s - loss: 1.3502 - accuracy: 0.6237\n",
            "Epoch 00001: saving model to License_character_recognition.h5\n",
            "12/12 [==============================] - 2s 180ms/step - loss: 1.3502 - accuracy: 0.6237 - val_loss: 3.4287 - val_accuracy: 0.3478\n",
            "Epoch 2/30\n",
            "12/12 [==============================] - ETA: 0s - loss: 1.2676 - accuracy: 0.6575\n",
            "Epoch 00002: saving model to License_character_recognition.h5\n",
            "12/12 [==============================] - 2s 184ms/step - loss: 1.2676 - accuracy: 0.6575 - val_loss: 2.9684 - val_accuracy: 0.3478\n",
            "Epoch 3/30\n",
            "12/12 [==============================] - ETA: 0s - loss: 0.9559 - accuracy: 0.7244\n",
            "Epoch 00003: saving model to License_character_recognition.h5\n",
            "12/12 [==============================] - 2s 145ms/step - loss: 0.9559 - accuracy: 0.7244 - val_loss: 2.8284 - val_accuracy: 0.3913\n",
            "Epoch 4/30\n",
            "12/12 [==============================] - ETA: 0s - loss: 0.8010 - accuracy: 0.7769\n",
            "Epoch 00004: saving model to License_character_recognition.h5\n",
            "12/12 [==============================] - 2s 148ms/step - loss: 0.8010 - accuracy: 0.7769 - val_loss: 2.7580 - val_accuracy: 0.4022\n",
            "Epoch 5/30\n",
            "12/12 [==============================] - ETA: 0s - loss: 0.6761 - accuracy: 0.8189\n",
            "Epoch 00005: saving model to License_character_recognition.h5\n",
            "12/12 [==============================] - 2s 163ms/step - loss: 0.6761 - accuracy: 0.8189 - val_loss: 2.6058 - val_accuracy: 0.4130\n",
            "Epoch 6/30\n",
            "12/12 [==============================] - ETA: 0s - loss: 0.5372 - accuracy: 0.8398\n",
            "Epoch 00006: saving model to License_character_recognition.h5\n",
            "12/12 [==============================] - 2s 154ms/step - loss: 0.5372 - accuracy: 0.8398 - val_loss: 2.5434 - val_accuracy: 0.4457\n",
            "Epoch 7/30\n",
            "12/12 [==============================] - ETA: 0s - loss: 0.5027 - accuracy: 0.8609\n",
            "Epoch 00007: saving model to License_character_recognition.h5\n",
            "12/12 [==============================] - 2s 148ms/step - loss: 0.5027 - accuracy: 0.8609 - val_loss: 2.3985 - val_accuracy: 0.4565\n",
            "Epoch 8/30\n",
            "12/12 [==============================] - ETA: 0s - loss: 0.4467 - accuracy: 0.8714\n",
            "Epoch 00008: saving model to License_character_recognition.h5\n",
            "12/12 [==============================] - 2s 149ms/step - loss: 0.4467 - accuracy: 0.8714 - val_loss: 2.1688 - val_accuracy: 0.4674\n",
            "Epoch 9/30\n",
            "12/12 [==============================] - ETA: 0s - loss: 0.3890 - accuracy: 0.8885\n",
            "Epoch 00009: saving model to License_character_recognition.h5\n",
            "12/12 [==============================] - 2s 148ms/step - loss: 0.3890 - accuracy: 0.8885 - val_loss: 2.0771 - val_accuracy: 0.5326\n",
            "Epoch 10/30\n",
            "12/12 [==============================] - ETA: 0s - loss: 0.3355 - accuracy: 0.9094\n",
            "Epoch 00010: saving model to License_character_recognition.h5\n",
            "12/12 [==============================] - 2s 150ms/step - loss: 0.3355 - accuracy: 0.9094 - val_loss: 2.0577 - val_accuracy: 0.5435\n",
            "Epoch 11/30\n",
            "12/12 [==============================] - ETA: 0s - loss: 0.3106 - accuracy: 0.9173\n",
            "Epoch 00011: saving model to License_character_recognition.h5\n",
            "12/12 [==============================] - 2s 152ms/step - loss: 0.3106 - accuracy: 0.9173 - val_loss: 2.0330 - val_accuracy: 0.5435\n",
            "Epoch 12/30\n",
            "12/12 [==============================] - ETA: 0s - loss: 0.2944 - accuracy: 0.9213\n",
            "Epoch 00012: saving model to License_character_recognition.h5\n",
            "12/12 [==============================] - 2s 150ms/step - loss: 0.2944 - accuracy: 0.9213 - val_loss: 1.8810 - val_accuracy: 0.5543\n",
            "Epoch 13/30\n",
            "12/12 [==============================] - ETA: 0s - loss: 0.2761 - accuracy: 0.9278\n",
            "Epoch 00013: saving model to License_character_recognition.h5\n",
            "12/12 [==============================] - 2s 150ms/step - loss: 0.2761 - accuracy: 0.9278 - val_loss: 1.8563 - val_accuracy: 0.5761\n",
            "Epoch 14/30\n",
            "12/12 [==============================] - ETA: 0s - loss: 0.2675 - accuracy: 0.9344\n",
            "Epoch 00014: saving model to License_character_recognition.h5\n",
            "12/12 [==============================] - 2s 151ms/step - loss: 0.2675 - accuracy: 0.9344 - val_loss: 1.7981 - val_accuracy: 0.5978\n",
            "Epoch 15/30\n",
            "12/12 [==============================] - ETA: 0s - loss: 0.2722 - accuracy: 0.9344\n",
            "Epoch 00015: saving model to License_character_recognition.h5\n",
            "12/12 [==============================] - 2s 148ms/step - loss: 0.2722 - accuracy: 0.9344 - val_loss: 1.7693 - val_accuracy: 0.6196\n",
            "Epoch 16/30\n",
            "12/12 [==============================] - ETA: 0s - loss: 0.2062 - accuracy: 0.9475\n",
            "Epoch 00016: saving model to License_character_recognition.h5\n",
            "12/12 [==============================] - 2s 150ms/step - loss: 0.2062 - accuracy: 0.9475 - val_loss: 1.7353 - val_accuracy: 0.6630\n",
            "Epoch 17/30\n",
            "12/12 [==============================] - ETA: 0s - loss: 0.2080 - accuracy: 0.9488\n",
            "Epoch 00017: saving model to License_character_recognition.h5\n",
            "12/12 [==============================] - 2s 150ms/step - loss: 0.2080 - accuracy: 0.9488 - val_loss: 1.6851 - val_accuracy: 0.6522\n",
            "Epoch 18/30\n",
            "12/12 [==============================] - ETA: 0s - loss: 0.1725 - accuracy: 0.9554\n",
            "Epoch 00018: saving model to License_character_recognition.h5\n",
            "12/12 [==============================] - 2s 147ms/step - loss: 0.1725 - accuracy: 0.9554 - val_loss: 1.6936 - val_accuracy: 0.6522\n",
            "Epoch 19/30\n",
            "12/12 [==============================] - ETA: 0s - loss: 0.1840 - accuracy: 0.9475\n",
            "Epoch 00019: saving model to License_character_recognition.h5\n",
            "12/12 [==============================] - 2s 147ms/step - loss: 0.1840 - accuracy: 0.9475 - val_loss: 1.7191 - val_accuracy: 0.5870\n",
            "Epoch 20/30\n",
            "12/12 [==============================] - ETA: 0s - loss: 0.1502 - accuracy: 0.9619\n",
            "Epoch 00020: saving model to License_character_recognition.h5\n",
            "12/12 [==============================] - 2s 153ms/step - loss: 0.1502 - accuracy: 0.9619 - val_loss: 1.7137 - val_accuracy: 0.5978\n",
            "Epoch 21/30\n",
            "12/12 [==============================] - ETA: 0s - loss: 0.1353 - accuracy: 0.9685\n",
            "Epoch 00021: saving model to License_character_recognition.h5\n",
            "12/12 [==============================] - 2s 159ms/step - loss: 0.1353 - accuracy: 0.9685 - val_loss: 1.6837 - val_accuracy: 0.6522\n",
            "Epoch 22/30\n",
            "12/12 [==============================] - ETA: 0s - loss: 0.1376 - accuracy: 0.9674\n",
            "Epoch 00022: saving model to License_character_recognition.h5\n",
            "12/12 [==============================] - 2s 160ms/step - loss: 0.1376 - accuracy: 0.9674 - val_loss: 1.6503 - val_accuracy: 0.6196\n",
            "Epoch 23/30\n",
            "12/12 [==============================] - ETA: 0s - loss: 0.1266 - accuracy: 0.9606\n",
            "Epoch 00023: saving model to License_character_recognition.h5\n",
            "12/12 [==============================] - 2s 157ms/step - loss: 0.1266 - accuracy: 0.9606 - val_loss: 1.6550 - val_accuracy: 0.6413\n",
            "Epoch 24/30\n",
            "12/12 [==============================] - ETA: 0s - loss: 0.1081 - accuracy: 0.9751\n",
            "Epoch 00024: saving model to License_character_recognition.h5\n",
            "12/12 [==============================] - 2s 157ms/step - loss: 0.1081 - accuracy: 0.9751 - val_loss: 1.6391 - val_accuracy: 0.6304\n",
            "Epoch 25/30\n",
            "12/12 [==============================] - ETA: 0s - loss: 0.1402 - accuracy: 0.9606\n",
            "Epoch 00025: saving model to License_character_recognition.h5\n",
            "12/12 [==============================] - 2s 152ms/step - loss: 0.1402 - accuracy: 0.9606 - val_loss: 1.6007 - val_accuracy: 0.6304\n",
            "Epoch 26/30\n",
            "12/12 [==============================] - ETA: 0s - loss: 0.1265 - accuracy: 0.9659\n",
            "Epoch 00026: saving model to License_character_recognition.h5\n",
            "12/12 [==============================] - 2s 151ms/step - loss: 0.1265 - accuracy: 0.9659 - val_loss: 1.5976 - val_accuracy: 0.6413\n",
            "Epoch 27/30\n",
            "12/12 [==============================] - ETA: 0s - loss: 0.1321 - accuracy: 0.9619\n",
            "Epoch 00027: saving model to License_character_recognition.h5\n",
            "12/12 [==============================] - 2s 151ms/step - loss: 0.1321 - accuracy: 0.9619 - val_loss: 1.5769 - val_accuracy: 0.6848\n",
            "Epoch 28/30\n",
            "12/12 [==============================] - ETA: 0s - loss: 0.1094 - accuracy: 0.9688\n",
            "Epoch 00028: saving model to License_character_recognition.h5\n",
            "12/12 [==============================] - 2s 151ms/step - loss: 0.1094 - accuracy: 0.9688 - val_loss: 1.5373 - val_accuracy: 0.6848\n",
            "Epoch 29/30\n",
            "12/12 [==============================] - ETA: 0s - loss: 0.1034 - accuracy: 0.9724\n",
            "Epoch 00029: saving model to License_character_recognition.h5\n",
            "12/12 [==============================] - 2s 154ms/step - loss: 0.1034 - accuracy: 0.9724 - val_loss: 1.4762 - val_accuracy: 0.6739\n",
            "Epoch 30/30\n",
            "12/12 [==============================] - ETA: 0s - loss: 0.1181 - accuracy: 0.9711\n",
            "Epoch 00030: saving model to License_character_recognition.h5\n",
            "12/12 [==============================] - 2s 151ms/step - loss: 0.1181 - accuracy: 0.9711 - val_loss: 1.4245 - val_accuracy: 0.6739\n"
          ],
          "name": "stdout"
        }
      ]
    },
    {
      "cell_type": "code",
      "metadata": {
        "id": "FnPuEtsuLep6"
      },
      "source": [
        "model_json = model.to_json()\n",
        "with open(\"MobileNets_character_recognition.json\", \"w\") as json_file:\n",
        "  json_file.write(model_json)"
      ],
      "execution_count": null,
      "outputs": []
    }
  ]
}